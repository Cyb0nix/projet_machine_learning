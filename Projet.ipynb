{
  "nbformat": 4,
  "nbformat_minor": 0,
  "metadata": {
    "colab": {
      "provenance": [],
      "include_colab_link": true
    },
    "kernelspec": {
      "name": "python3",
      "display_name": "Python 3"
    },
    "language_info": {
      "name": "python"
    }
  },
  "cells": [
    {
      "cell_type": "markdown",
      "metadata": {
        "id": "view-in-github",
        "colab_type": "text"
      },
      "source": [
        "<a href=\"https://colab.research.google.com/github/Cyb0nix/projet_machine_learning/blob/main/Projet.ipynb\" target=\"_parent\"><img src=\"https://colab.research.google.com/assets/colab-badge.svg\" alt=\"Open In Colab\"/></a>"
      ]
    },
    {
      "cell_type": "markdown",
      "source": [
        "**Introduction :**\n",
        "\n",
        "  Dans le cadre de notre cours électif « Introduction à l’apprentissage Machine », nous avons réalisé un projet qui a pour but de modéliser la variation journalière du prix de l’électricité en France et en Allemagne. Nous avions une grande base de données de variation qui a comme variables par exemple la pluie, la température, la consommation totale d’électricité ou encore la production d’énergie journalière nucléaire. Chaque variable est respectivement mesurée en France et en Allemagne.\n",
        " \n",
        "  Ce projet va nous permettre d’interpréter des données afin de comprendre la variation du prix de l’électricité pour chaque jour dans les deux pays. \n",
        "Nous avons trois bases de données : Data_X, qui sont les données sur lesquelles on a travaillé, Data_Y, qui sont les données en sortie et enfin DataNew_X qui sont les données sur lesquelles nous allons tester notre modèle définitif.\n",
        "Durant ce projet, nous avons préparé les données, puis nous les avons analysé, modélisé et enfin nous avons élaboré des modèles.\n",
        "Ce rapport décrira notre travail en détail pour chacune de ces étapes.\n"
      ],
      "metadata": {
        "id": "00RYRc_NEKCx"
      }
    }
  ]
}